{
 "cells": [
  {
   "cell_type": "code",
   "execution_count": 2,
   "metadata": {},
   "outputs": [],
   "source": [
    "from graph import InferenceWorker"
   ]
  },
  {
   "cell_type": "code",
   "execution_count": 2,
   "metadata": {},
   "outputs": [
    {
     "name": "stdout",
     "output_type": "stream",
     "text": [
      "[sudo] password for likich: \n"
     ]
    }
   ],
   "source": [
    "# !sudo apt-get install git-lfs"
   ]
  },
  {
   "cell_type": "code",
   "execution_count": 2,
   "metadata": {},
   "outputs": [
    {
     "name": "stdout",
     "output_type": "stream",
     "text": [
      "Updated git hooks.\n",
      "Git LFS initialized.\n"
     ]
    }
   ],
   "source": [
    "!git lfs install"
   ]
  },
  {
   "cell_type": "code",
   "execution_count": 8,
   "metadata": {},
   "outputs": [
    {
     "name": "stdout",
     "output_type": "stream",
     "text": [
      "Cloning into 'mT5_multilingual_XLSum'...\n",
      "remote: Enumerating objects: 29, done.\u001b[K\n",
      "remote: Counting objects: 100% (29/29), done.\u001b[K\n",
      "remote: Compressing objects: 100% (28/28), done.\u001b[K\n",
      "remote: Total 29 (delta 12), reused 0 (delta 0)\u001b[K\n",
      "Unpacking objects: 100% (29/29), 7.97 KiB | 226.00 KiB/s, done.\n"
     ]
    }
   ],
   "source": [
    "# !git clone https://huggingface.co/csebuetnlp/mT5_multilingual_XLSum"
   ]
  },
  {
   "cell_type": "code",
   "execution_count": 3,
   "metadata": {},
   "outputs": [],
   "source": [
    "from transformers import AutoTokenizer, AutoModelForSeq2SeqLM\n",
    "model_name = '/home/likich/jademirror_projector/notebooks/Summarization/mT5_multilingual_XLSum'\n",
    "tokenizer = AutoTokenizer.from_pretrained(model_name)\n",
    "model = AutoModelForSeq2SeqLM.from_pretrained(model_name)"
   ]
  },
  {
   "cell_type": "code",
   "execution_count": 1,
   "metadata": {},
   "outputs": [],
   "source": [
    "article_text = '''Данное сообщение (материал) создано и\\xa0(или) распространено иностранным средством массовой информации, выполняющим функции иностранного агента, и\\xa0(или) российским юридическим лицом, выполняющим функции иностранного агента. Нам нужна ваша помощь. Пожалуйста,   . Провластные чеченские  , что на\\xa0митинг пришли более 400 тысяч человек. По ЧГТРК «Грозный», в\\xa0нем участвовали только мужчины; таким образом, число митингующих около 50% мужского населения республики. Митинг как несогласованный, но\\xa0на\\xa0нем выступали чеченские официальные лица (в\\xa0том числе один из\\xa0ближайших соратников главы Чечни Рамзана Кадырова, спикер парламента республики ), а\\xa0полиция никого не\\xa0разгоняла. , издание «Чечня сегодня». Как ТАСС, поводом для митинга было заявлено то, что в\\xa0интернете появились аудиозаписи с\\xa0оскорблением религиозных деятелей Северного Кавказа; их\\xa0якобы записали сыновья Сайди Янгулбаева, одного из\\xa0которых связывают с\\xa0оппозиционным телеграм-каналом . Выступавший на\\xa0митинге муфтий Чечни Салах-Хаджи Межиев заявил: Янгулбаевы записали очень „грязные“ аудио о\\xa0наших Эвлия [святых], о\\xa0нашем народе, и\\xa0всего того, что так почитается чеченцами. Такой низости не\\xa0позволял себе никто». . Выступая на\\xa0митинге, он\\xa0заявил, что журналистка «Новой газеты» Елена Милашина и\\xa0глава «Комитета против пыток» Игорь Каляпин занимаются «антигосударственной экстремистской деятельностью» и\\xa0«курируют» членов семьи Янгулбаевых, которые «оправдывают терроризм в\\xa0отношении жителей Чечни и\\xa0призывают уничтожить практически весь чеченский народ». Денильханов призвал «арестовать и\\xa0предать справедливому суду» Милашину и\\xa0Каляпина. . «Днем и\\xa0ночью, не\\xa0жалея своих жизней, имущества и\\xa0потомства, мы\\xa0будем вас преследовать, пока не\\xa0отрежем ваши головы и\\xa0не\\xa0убьем\\xa0вас. У\\xa0нас действительно с\\xa0вами вражда и\\xa0кровная месть»,\\xa0— заявил Делимханов в\\xa0обращении на\\xa0чеченском языке. Его слова перевел чеченский оппозиционный телеграм-канал 1ADAT. Он\\xa0также сообщил, что Делимханов пригрозил отрезать головы и\\xa0тем, кто переведет его слова на\\xa0русский. Обращение с\\xa0аналогичными угрозами в\\xa0адрес Янгулбаевых позднее и\\xa0другие чеченские чиновники. . «Это не\\xa0наша функция. Это функция Государственной Думы и\\xa0комитета, который занимается этикой…»,\\xa0— заявил пресс-секретарь президента России Дмитрий Песков. В\\xa0свою очередь замглавы комиссии Госдумы по\\xa0вопросам депутатской этики Николай Арефьев заявил, что подобные угрозы «должна рассматривать не\\xa0комиссия по\\xa0этике, а\\xa0Генпрокуратура». В\\xa0Совете по\\xa0правам человека при президенте РФ\\xa0также , что если в\\xa0словах Делимханова действительно были угрозы, этим должна заниматься Генпрокуратура. Каждый день наша редакция продолжает работать\\xa0— вопреки давлению государства и\\xa0только благодаря вам. Спасибо вам огромное! Это очень воодушевляет. «Медузе» по-прежнему нужна ваша помощь. Пожалуйста, поддержите нас. . 20\\xa0января в\\xa0их\\xa0квартиру в\\xa0Нижнем Новгороде вооруженные люди и\\xa0увезли Мусаеву в\\xa0Чечню. Ее из без обуви и\\xa0верхней одежды. Чеченские власти , что Мусаева находится в\\xa0спецприемнике по\\xa0административному делу об\\xa0оскорблении представителя власти. Позднее стало известно, что против нее завели уголовное дело о\\xa0применении насилия к\\xa0представителю власти. Глава Чечни Рамзан Кадыров , что Мусаева «напала на\\xa0сотрудника полиции и ». 2\\xa0февраля Мусаеву на\\xa0два месяца. . Сайди Янгулбаев Россию вместе с\\xa0дочерью. Его сыновья уже давно живут за\\xa0границей. Один из\\xa0них Ибрагим Янгулбаев связал преследование своей семьи с\\xa0тем, что он\\xa0администрировал оппозиционные чеченские паблики. В\\xa0конце января против него уголовное дело о\\xa0призывах к\\xa0терроризму. Baza , что СК\\xa0считает Ибрагима Янгулбаева одним из\\xa0администраторов 1ADAT, где экспертиза обнаружила признаки оправдания деятельности Доку Умарова, Шамиля Басаева и\\xa0других чеченских боевиков. . В\\xa0очередной раз критикуя Янгулбаевых, глава Чечни заявил, что Милашина и\\xa0Каляпин «зарабатывают на\\xa0теме Чечни и\\xa0чеченцев, разрабатывая сценарии и\\xa0нашептывая на\\xa0ухо своим персонажам тексты и\\xa0поведение». Пресс-секретарь президента РФ\\xa0Дмитрий Песков , что Кадыров высказал «свое личное мнение», и\\xa0отказался давать другую оценку его словам. «Новая газета» позицию Кремля. Главный редактор «Эха Москвы» и призвали руководство России отреагировать на\\xa0угрозы Кадырова.'''"
   ]
  },
  {
   "cell_type": "code",
   "execution_count": 3,
   "metadata": {},
   "outputs": [],
   "source": [
    "MODE = 'MID'"
   ]
  },
  {
   "cell_type": "code",
   "execution_count": 3,
   "metadata": {},
   "outputs": [],
   "source": [
    "class sampleSUM(InferenceWorker):\n",
    "    def __call__(self, t, d):\n",
    "        if t == \"text\":\n",
    "            yield \"sum_text\", self.sum_from_text(d, MODE), \"summarize\"\n",
    "        else:\n",
    "            yield None        \n",
    "    def sum_from_text(self, text, mode):\n",
    "        if mode == 'SLOW':\n",
    "            length = 100\n",
    "        elif mode == 'MID':\n",
    "            length = 40\n",
    "        elif mode == 'FAST':\n",
    "            length = 10\n",
    "        input_ids = tokenizer(\n",
    "        [article_text],\n",
    "        return_tensors=\"pt\",\n",
    "        padding=\"max_length\",\n",
    "        truncation=True,\n",
    "        max_length=length\n",
    "    )[\"input_ids\"]\n",
    "\n",
    "        output_ids = model.generate(\n",
    "            input_ids=input_ids,\n",
    "            no_repeat_ngram_size=4\n",
    "        )[0]\n",
    "\n",
    "        summary = tokenizer.decode(output_ids,skip_special_tokens=True)\n",
    "        return summary\n",
    "        "
   ]
  },
  {
   "cell_type": "code",
   "execution_count": null,
   "metadata": {},
   "outputs": [],
   "source": [
    "worker = sampleSUM()\n",
    "worker.serialize()"
   ]
  },
  {
   "cell_type": "code",
   "execution_count": null,
   "metadata": {},
   "outputs": [],
   "source": [
    "for x in worker(\"text\", article_text):\n",
    "    print(x)"
   ]
  }
 ],
 "metadata": {
  "interpreter": {
   "hash": "916dbcbb3f70747c44a77c7bcd40155683ae19c65e1c03b4aa3499c5328201f1"
  },
  "kernelspec": {
   "display_name": "Python 3.8.10 64-bit",
   "language": "python",
   "name": "python3"
  },
  "language_info": {
   "codemirror_mode": {
    "name": "ipython",
    "version": 3
   },
   "file_extension": ".py",
   "mimetype": "text/x-python",
   "name": "python",
   "nbconvert_exporter": "python",
   "pygments_lexer": "ipython3",
   "version": "3.8.10"
  },
  "orig_nbformat": 4
 },
 "nbformat": 4,
 "nbformat_minor": 2
}
