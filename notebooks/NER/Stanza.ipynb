{
  "nbformat": 4,
  "nbformat_minor": 0,
  "metadata": {
    "colab": {
      "name": "Stanza",
      "provenance": [],
      "collapsed_sections": []
    },
    "kernelspec": {
      "name": "python3",
      "display_name": "Python 3"
    },
    "language_info": {
      "name": "python"
    }
  },
  "cells": [
    {
      "cell_type": "code",
      "source": [
        "# !git clone https://github.com/stanfordnlp/stanza.git"
      ],
      "metadata": {
        "id": "eoidAH_SAH_A"
      },
      "execution_count": 42,
      "outputs": []
    },
    {
      "cell_type": "code",
      "source": [
        "!pip install stanza"
      ],
      "metadata": {
        "colab": {
          "base_uri": "https://localhost:8080/",
          "height": 544
        },
        "id": "tMCQ7keDAbuw",
        "outputId": "9416d3a1-9df7-4bb7-e94b-8278cf44e739"
      },
      "execution_count": 7,
      "outputs": [
        {
          "output_type": "stream",
          "name": "stdout",
          "text": [
            "Collecting stanza\n",
            "  Downloading stanza-1.3.0-py3-none-any.whl (432 kB)\n",
            "\u001b[?25l\r\u001b[K     |▊                               | 10 kB 19.3 MB/s eta 0:00:01\r\u001b[K     |█▌                              | 20 kB 25.5 MB/s eta 0:00:01\r\u001b[K     |██▎                             | 30 kB 21.9 MB/s eta 0:00:01\r\u001b[K     |███                             | 40 kB 16.3 MB/s eta 0:00:01\r\u001b[K     |███▉                            | 51 kB 8.6 MB/s eta 0:00:01\r\u001b[K     |████▌                           | 61 kB 8.9 MB/s eta 0:00:01\r\u001b[K     |█████▎                          | 71 kB 8.8 MB/s eta 0:00:01\r\u001b[K     |██████                          | 81 kB 9.5 MB/s eta 0:00:01\r\u001b[K     |██████▉                         | 92 kB 9.8 MB/s eta 0:00:01\r\u001b[K     |███████▋                        | 102 kB 8.1 MB/s eta 0:00:01\r\u001b[K     |████████▍                       | 112 kB 8.1 MB/s eta 0:00:01\r\u001b[K     |█████████                       | 122 kB 8.1 MB/s eta 0:00:01\r\u001b[K     |█████████▉                      | 133 kB 8.1 MB/s eta 0:00:01\r\u001b[K     |██████████▋                     | 143 kB 8.1 MB/s eta 0:00:01\r\u001b[K     |███████████▍                    | 153 kB 8.1 MB/s eta 0:00:01\r\u001b[K     |████████████▏                   | 163 kB 8.1 MB/s eta 0:00:01\r\u001b[K     |█████████████                   | 174 kB 8.1 MB/s eta 0:00:01\r\u001b[K     |█████████████▋                  | 184 kB 8.1 MB/s eta 0:00:01\r\u001b[K     |██████████████▍                 | 194 kB 8.1 MB/s eta 0:00:01\r\u001b[K     |███████████████▏                | 204 kB 8.1 MB/s eta 0:00:01\r\u001b[K     |████████████████                | 215 kB 8.1 MB/s eta 0:00:01\r\u001b[K     |████████████████▊               | 225 kB 8.1 MB/s eta 0:00:01\r\u001b[K     |█████████████████▍              | 235 kB 8.1 MB/s eta 0:00:01\r\u001b[K     |██████████████████▏             | 245 kB 8.1 MB/s eta 0:00:01\r\u001b[K     |███████████████████             | 256 kB 8.1 MB/s eta 0:00:01\r\u001b[K     |███████████████████▊            | 266 kB 8.1 MB/s eta 0:00:01\r\u001b[K     |████████████████████▌           | 276 kB 8.1 MB/s eta 0:00:01\r\u001b[K     |█████████████████████▎          | 286 kB 8.1 MB/s eta 0:00:01\r\u001b[K     |██████████████████████          | 296 kB 8.1 MB/s eta 0:00:01\r\u001b[K     |██████████████████████▊         | 307 kB 8.1 MB/s eta 0:00:01\r\u001b[K     |███████████████████████▌        | 317 kB 8.1 MB/s eta 0:00:01\r\u001b[K     |████████████████████████▎       | 327 kB 8.1 MB/s eta 0:00:01\r\u001b[K     |█████████████████████████       | 337 kB 8.1 MB/s eta 0:00:01\r\u001b[K     |█████████████████████████▉      | 348 kB 8.1 MB/s eta 0:00:01\r\u001b[K     |██████████████████████████▌     | 358 kB 8.1 MB/s eta 0:00:01\r\u001b[K     |███████████████████████████▎    | 368 kB 8.1 MB/s eta 0:00:01\r\u001b[K     |████████████████████████████    | 378 kB 8.1 MB/s eta 0:00:01\r\u001b[K     |████████████████████████████▉   | 389 kB 8.1 MB/s eta 0:00:01\r\u001b[K     |█████████████████████████████▋  | 399 kB 8.1 MB/s eta 0:00:01\r\u001b[K     |██████████████████████████████▍ | 409 kB 8.1 MB/s eta 0:00:01\r\u001b[K     |███████████████████████████████ | 419 kB 8.1 MB/s eta 0:00:01\r\u001b[K     |███████████████████████████████▉| 430 kB 8.1 MB/s eta 0:00:01\r\u001b[K     |████████████████████████████████| 432 kB 8.1 MB/s \n",
            "\u001b[?25hRequirement already satisfied: requests in /usr/local/lib/python3.7/dist-packages (from stanza) (2.23.0)\n",
            "Requirement already satisfied: tqdm in /usr/local/lib/python3.7/dist-packages (from stanza) (4.62.3)\n",
            "Requirement already satisfied: torch>=1.3.0 in /usr/local/lib/python3.7/dist-packages (from stanza) (1.10.0+cu111)\n",
            "Requirement already satisfied: protobuf in /usr/local/lib/python3.7/dist-packages (from stanza) (3.17.3)\n",
            "Requirement already satisfied: numpy in /usr/local/lib/python3.7/dist-packages (from stanza) (1.19.5)\n",
            "Collecting emoji\n",
            "  Downloading emoji-1.6.3.tar.gz (174 kB)\n",
            "\u001b[K     |████████████████████████████████| 174 kB 52.5 MB/s \n",
            "\u001b[?25hRequirement already satisfied: six in /usr/local/lib/python3.7/dist-packages (from stanza) (1.15.0)\n",
            "Requirement already satisfied: typing-extensions in /usr/local/lib/python3.7/dist-packages (from torch>=1.3.0->stanza) (3.10.0.2)\n",
            "Requirement already satisfied: chardet<4,>=3.0.2 in /usr/local/lib/python3.7/dist-packages (from requests->stanza) (3.0.4)\n",
            "Requirement already satisfied: certifi>=2017.4.17 in /usr/local/lib/python3.7/dist-packages (from requests->stanza) (2021.10.8)\n",
            "Requirement already satisfied: idna<3,>=2.5 in /usr/local/lib/python3.7/dist-packages (from requests->stanza) (2.10)\n",
            "Requirement already satisfied: urllib3!=1.25.0,!=1.25.1,<1.26,>=1.21.1 in /usr/local/lib/python3.7/dist-packages (from requests->stanza) (1.24.3)\n",
            "Building wheels for collected packages: emoji\n",
            "  Building wheel for emoji (setup.py) ... \u001b[?25l\u001b[?25hdone\n",
            "  Created wheel for emoji: filename=emoji-1.6.3-py3-none-any.whl size=170298 sha256=f4187720dee26b47024f310bc7ecc41b0ebc2bcc6f044cebdd11cec19196288c\n",
            "  Stored in directory: /root/.cache/pip/wheels/03/8b/d7/ad579fbef83c287215c0caab60fb0ae0f30c4d7ce5f580eade\n",
            "Successfully built emoji\n",
            "Installing collected packages: emoji, stanza\n",
            "Successfully installed emoji-1.6.3 stanza-1.3.0\n"
          ]
        },
        {
          "output_type": "display_data",
          "data": {
            "application/vnd.colab-display-data+json": {
              "pip_warning": {
                "packages": [
                  "stanza"
                ]
              }
            }
          },
          "metadata": {}
        }
      ]
    },
    {
      "cell_type": "code",
      "source": [
        "# from transformers import AutoTokenizer, AutoModelForTokenClassification\n",
        "# from transformers import pipeline\n",
        "\n",
        "# tokenizer = AutoTokenizer.from_pretrained(\"Babelscape/wikineural-multilingual-ner\")\n",
        "# model = AutoModelForTokenClassification.from_pretrained(\"Babelscape/wikineural-multilingual-ner\")\n",
        "\n",
        "# nlp = pipeline(\"ner\", model=model, tokenizer=tokenizer)\n",
        "# example = \"Меня зовут Лика и я ем в Италии\"\n",
        "\n",
        "# ner_results = nlp(example)\n",
        "# print(ner_results)"
      ],
      "metadata": {
        "colab": {
          "base_uri": "https://localhost:8080/"
        },
        "id": "Z5BMX4nNDq3i",
        "outputId": "1bba5109-3e7e-4631-cf5f-6683935a4a66"
      },
      "execution_count": 13,
      "outputs": [
        {
          "output_type": "stream",
          "name": "stdout",
          "text": [
            "[{'entity': 'B-LOC', 'score': 0.98588514, 'index': 105, 'word': 'России', 'start': 338, 'end': 344}, {'entity': 'B-LOC', 'score': 0.96787214, 'index': 107, 'word': 'У', 'start': 347, 'end': 348}, {'entity': 'I-LOC', 'score': 0.9497287, 'index': 108, 'word': '##к', 'start': 348, 'end': 349}, {'entity': 'I-LOC', 'score': 0.9709943, 'index': 109, 'word': '##раи', 'start': 349, 'end': 352}, {'entity': 'I-LOC', 'score': 0.9597481, 'index': 110, 'word': '##ну', 'start': 352, 'end': 354}, {'entity': 'B-LOC', 'score': 0.9860973, 'index': 114, 'word': 'Украины', 'start': 374, 'end': 381}, {'entity': 'I-PER', 'score': 0.8532285, 'index': 115, 'word': 'Владимир', 'start': 382, 'end': 390}, {'entity': 'I-PER', 'score': 0.9980101, 'index': 116, 'word': 'З', 'start': 391, 'end': 392}, {'entity': 'I-PER', 'score': 0.9977221, 'index': 117, 'word': '##елен', 'start': 392, 'end': 396}, {'entity': 'I-PER', 'score': 0.9973808, 'index': 118, 'word': '##ский', 'start': 396, 'end': 400}, {'entity': 'B-LOC', 'score': 0.94194883, 'index': 177, 'word': 'РФ', 'start': 604, 'end': 606}, {'entity': 'B-LOC', 'score': 0.9703972, 'index': 241, 'word': 'Российской', 'start': 810, 'end': 820}, {'entity': 'I-LOC', 'score': 0.985768, 'index': 242, 'word': 'Федерации', 'start': 821, 'end': 830}, {'entity': 'B-LOC', 'score': 0.9682046, 'index': 244, 'word': 'У', 'start': 834, 'end': 835}, {'entity': 'I-LOC', 'score': 0.96386737, 'index': 245, 'word': '##к', 'start': 835, 'end': 836}, {'entity': 'I-LOC', 'score': 0.97828144, 'index': 246, 'word': '##раи', 'start': 836, 'end': 839}, {'entity': 'I-LOC', 'score': 0.9757622, 'index': 247, 'word': '##ну', 'start': 839, 'end': 841}, {'entity': 'B-LOC', 'score': 0.9922975, 'index': 267, 'word': 'Украина', 'start': 899, 'end': 906}, {'entity': 'B-LOC', 'score': 0.98547965, 'index': 298, 'word': 'Украине', 'start': 1007, 'end': 1014}, {'entity': 'B-PER', 'score': 0.8273507, 'index': 328, 'word': 'З', 'start': 1123, 'end': 1124}, {'entity': 'I-PER', 'score': 0.8489168, 'index': 329, 'word': '##елен', 'start': 1124, 'end': 1128}, {'entity': 'I-PER', 'score': 0.9254367, 'index': 330, 'word': '##ский', 'start': 1128, 'end': 1132}, {'entity': 'B-LOC', 'score': 0.9696307, 'index': 355, 'word': 'Украины', 'start': 1224, 'end': 1231}, {'entity': 'B-PER', 'score': 0.8373406, 'index': 418, 'word': 'З', 'start': 1485, 'end': 1486}, {'entity': 'I-PER', 'score': 0.7495717, 'index': 419, 'word': '##елен', 'start': 1486, 'end': 1490}, {'entity': 'I-PER', 'score': 0.7240723, 'index': 420, 'word': '##ского', 'start': 1490, 'end': 1495}, {'entity': 'B-LOC', 'score': 0.8972889, 'index': 437, 'word': 'Россия', 'start': 1544, 'end': 1550}, {'entity': 'B-LOC', 'score': 0.8147003, 'index': 450, 'word': 'У', 'start': 1601, 'end': 1602}, {'entity': 'I-LOC', 'score': 0.68159485, 'index': 451, 'word': '##к', 'start': 1602, 'end': 1603}, {'entity': 'I-LOC', 'score': 0.7395682, 'index': 452, 'word': '##раи', 'start': 1603, 'end': 1606}, {'entity': 'I-LOC', 'score': 0.74248755, 'index': 453, 'word': '##ну', 'start': 1606, 'end': 1608}, {'entity': 'B-LOC', 'score': 0.9302036, 'index': 480, 'word': 'Россия', 'start': 1706, 'end': 1712}, {'entity': 'B-LOC', 'score': 0.88351405, 'index': 490, 'word': 'У', 'start': 1757, 'end': 1758}, {'entity': 'I-LOC', 'score': 0.80669624, 'index': 491, 'word': '##к', 'start': 1758, 'end': 1759}, {'entity': 'I-LOC', 'score': 0.82346183, 'index': 492, 'word': '##раи', 'start': 1759, 'end': 1762}, {'entity': 'I-LOC', 'score': 0.8425887, 'index': 493, 'word': '##ну', 'start': 1762, 'end': 1764}]\n"
          ]
        }
      ]
    },
    {
      "cell_type": "code",
      "source": [
        "article_text = 'РОСТОВ-НА-ДОНУ, ул. Митрофанова д.22к1, 2 фев – РИА Новости. Тело мужчины, сбежавшего более двух месяцев назад из Сарпинского психоневрологического диспансера в Калмыкии, обнаружили в поселке неподалеку, сообщает СУСК России по Калмыкии. По информации следствия, вечером 29 ноября мужчина самовольно покинул психдиспансер. По факту безвестного исчезновения мужчины было возбуждено уголовное дело по статье \"Убийство\". Был организован его розыск.\"В дополнение к ранее опубликованной информации о розыске подопечного БУРК \"Сарпинский психоневрологический диспансер\" Строкова А.Н. региональное следственное управление СК России сообщает, что на территории поселка Годжур Сарпинского района обнаружено тело мужчины\", - говорится в сообщении.В настоящее время по данному факту организована проверка.'"
      ],
      "metadata": {
        "id": "_qrahSO1d0sH"
      },
      "execution_count": 7,
      "outputs": []
    },
    {
      "cell_type": "code",
      "source": [
        "import stanza\n",
        "from graph import InferenceWorker\n",
        "import pymorphy2\n",
        "import json\n",
        "stanza.download('ru')\n",
        "morph = pymorphy2.MorphAnalyzer()"
      ],
      "metadata": {
        "id": "X6g89z-_dBIP"
      },
      "execution_count": 46,
      "outputs": []
    },
    {
      "cell_type": "code",
      "source": [
        "class SampleNER(InferenceWorker):\n",
        "    def __call__(self, t, d):\n",
        "        if t == \"text\":\n",
        "            yield \"entities\", self.ner_from_text(d), \"NER\"\n",
        "        else:\n",
        "            yield None        \n",
        "    def ner_from_text(self, text):\n",
        "        nlp = stanza.Pipeline(lang='ru', processors='tokenize,ner')\n",
        "        doc = nlp(article_text)\n",
        "        ner_ents= []\n",
        "        for sent in doc.sentences:\n",
        "            for ent in sent.ents:  \n",
        "                ent = json.loads(str(ent))\n",
        "                ner_ents.append([ent['text'], ent['type']])\n",
        "        for x in ner_ents:\n",
        "          if x[1] == 'LOC':\n",
        "            if x[0].isalpha():\n",
        "              x[0] = morph.normal_forms(x[0])[0].capitalize()\n",
        "            else:\n",
        "              x[0] = x[0].capitalize()\n",
        "        return ner_ents\n",
        "        "
      ],
      "metadata": {
        "id": "svIo3yipdK-_"
      },
      "execution_count": 47,
      "outputs": []
    },
    {
      "cell_type": "code",
      "source": [
        "worker = SampleNER()\n",
        "worker.serialize()"
      ],
      "metadata": {
        "colab": {
          "base_uri": "https://localhost:8080/"
        },
        "id": "CXN45a5kds1W",
        "outputId": "cab04b8d-150c-47da-e002-25e6042eac60"
      },
      "execution_count": 48,
      "outputs": [
        {
          "output_type": "stream",
          "name": "stdout",
          "text": [
            "Worker saved!\n"
          ]
        }
      ]
    },
    {
      "cell_type": "code",
      "source": [
        "for x in worker(\"text\", article_text):\n",
        "    print(x)"
      ],
      "metadata": {
        "colab": {
          "base_uri": "https://localhost:8080/"
        },
        "id": "VsjwdVaSdwoU",
        "outputId": "571d2a1e-368e-485d-f616-5ab661860688"
      },
      "execution_count": 49,
      "outputs": [
        {
          "output_type": "stream",
          "name": "stderr",
          "text": [
            "2022-02-12 23:08:38 INFO: Loading these models for language: ru (Russian):\n",
            "=========================\n",
            "| Processor | Package   |\n",
            "-------------------------\n",
            "| tokenize  | syntagrus |\n",
            "| ner       | wikiner   |\n",
            "=========================\n",
            "\n",
            "2022-02-12 23:08:38 INFO: Use device: cpu\n",
            "2022-02-12 23:08:38 INFO: Loading: tokenize\n",
            "2022-02-12 23:08:38 INFO: Loading: ner\n",
            "2022-02-12 23:08:40 INFO: Done loading processors!\n"
          ]
        },
        {
          "output_type": "stream",
          "name": "stdout",
          "text": [
            "('entities', [['Ростов-на-дону', 'LOC'], ['Ул. митрофанова', 'LOC'], ['РИА Новости', 'ORG'], ['Сарпинский', 'LOC'], ['Калмыкия', 'LOC'], ['СУСК России', 'ORG'], ['Калмыкия', 'LOC'], ['Убийство', 'MISC'], ['БУРК \"Сарпинский психоневрологический диспансер', 'ORG'], ['Строкова А.Н.', 'PER'], ['СК России', 'ORG'], ['Годжур', 'LOC'], ['Сарпинского района', 'LOC']], 'NER')\n"
          ]
        }
      ]
    }
  ]
}