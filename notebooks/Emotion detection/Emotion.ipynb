{
  "nbformat": 4,
  "nbformat_minor": 0,
  "metadata": {
    "colab": {
      "name": "Emotion",
      "provenance": [],
      "collapsed_sections": []
    },
    "kernelspec": {
      "name": "python3",
      "display_name": "Python 3"
    },
    "language_info": {
      "name": "python"
    }
  },
  "cells": [
    {
      "cell_type": "code",
      "source": [
        "!sudo apt-get install git-lfs\n",
        "!git lfs install"
      ],
      "metadata": {
        "id": "9JxfXPXsjFlL"
      },
      "execution_count": null,
      "outputs": []
    },
    {
      "cell_type": "code",
      "source": [
        "!git clone https://huggingface.co/blanchefort/rubert-base-cased-sentiment"
      ],
      "metadata": {
        "colab": {
          "base_uri": "https://localhost:8080/"
        },
        "id": "h87ERkQxiWSL",
        "outputId": "ccff94e6-a08b-4b94-85a2-63539335bd17"
      },
      "execution_count": 19,
      "outputs": [
        {
          "output_type": "stream",
          "name": "stdout",
          "text": [
            "Cloning into 'rubert-base-cased-sentiment'...\n",
            "remote: Enumerating objects: 21, done.\u001b[K\n",
            "remote: Counting objects: 100% (21/21), done.\u001b[K\n",
            "remote: Compressing objects: 100% (20/20), done.\u001b[K\n",
            "remote: Total 21 (delta 5), reused 0 (delta 0)\u001b[K\n",
            "Unpacking objects: 100% (21/21), done.\n",
            "Filtering content: 100% (3/3), 1.98 GiB | 88.16 MiB/s, done.\n"
          ]
        }
      ]
    },
    {
      "cell_type": "code",
      "source": [
        "from graph import InferenceWorker\n",
        "import torch\n",
        "from transformers import AutoModelForSequenceClassification\n",
        "from transformers import BertTokenizerFast\n",
        "\n",
        "tokenizer = BertTokenizerFast.from_pretrained('/content/rubert-base-cased-sentiment')\n",
        "model = AutoModelForSequenceClassification.from_pretrained('/content/rubert-base-cased-sentiment', return_dict=True)"
      ],
      "metadata": {
        "id": "GQ9j4ty-n9WB"
      },
      "execution_count": 20,
      "outputs": []
    },
    {
      "cell_type": "code",
      "source": [
        "text = 'В стране карантин. Умерло очень много людей.'"
      ],
      "metadata": {
        "id": "ma0fXDOop6hQ"
      },
      "execution_count": 21,
      "outputs": []
    },
    {
      "cell_type": "code",
      "source": [
        "class SampleEmotion(InferenceWorker):\n",
        "    def __call__(self, t, d):\n",
        "        if t == \"sum_text\":\n",
        "            yield \"emotion\", self.predict(d), \"Emotion_detection\"\n",
        "        else:\n",
        "            yield None        \n",
        "    @torch.no_grad()\n",
        "    def predict(self, text):\n",
        "        inputs = tokenizer(text, max_length=512, padding=True, truncation=True, return_tensors='pt')\n",
        "        outputs = model(**inputs)\n",
        "        predicted = torch.nn.functional.softmax(outputs.logits, dim=1)\n",
        "        predicted = torch.argmax(predicted, dim=1).numpy()\n",
        "        if predicted[0] == 0:\n",
        "          return 'NEUTRAL'\n",
        "        if predicted[0] == 1:\n",
        "          return 'POSITIVE'\n",
        "        if predicted[0] == 2:\n",
        "          return 'NEGATIVE'     "
      ],
      "metadata": {
        "id": "2xbz64gGosZ9"
      },
      "execution_count": 22,
      "outputs": []
    },
    {
      "cell_type": "code",
      "source": [
        "worker = SampleEmotion()\n",
        "worker.serialize()"
      ],
      "metadata": {
        "colab": {
          "base_uri": "https://localhost:8080/"
        },
        "id": "QqF-XuncpxgP",
        "outputId": "3d6ac203-4abd-407e-c41f-466c7530d130"
      },
      "execution_count": 23,
      "outputs": [
        {
          "output_type": "stream",
          "name": "stdout",
          "text": [
            "Worker saved!\n"
          ]
        }
      ]
    },
    {
      "cell_type": "code",
      "source": [
        "for x in worker(\"sum_text\", text):\n",
        "  print(x)"
      ],
      "metadata": {
        "colab": {
          "base_uri": "https://localhost:8080/"
        },
        "id": "K5jFlsHTp1DS",
        "outputId": "246f5a1c-b23e-45df-dc73-99fdbd8ecadf"
      },
      "execution_count": 24,
      "outputs": [
        {
          "output_type": "stream",
          "name": "stdout",
          "text": [
            "('emotion', 'NEGATIVE', 'Emotion_detection')\n"
          ]
        }
      ]
    }
  ]
}